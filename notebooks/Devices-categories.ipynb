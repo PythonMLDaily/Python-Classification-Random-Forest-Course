{
 "cells": [
  {
   "cell_type": "code",
   "execution_count": 632,
   "id": "f2ce6ed1-b582-4a31-801a-255e6568b9a3",
   "metadata": {},
   "outputs": [],
   "source": [
    "import pandas as pd\n",
    "import numpy as np\n",
    "import matplotlib.pyplot as plt\n",
    "from sklearn.feature_extraction.text import TfidfVectorizer\n",
    "from sklearn.model_selection import train_test_split\n",
    "\n",
    "from sklearn.ensemble import RandomForestClassifier\n",
    "from sklearn.neighbors import KNeighborsClassifier\n",
    "from sklearn.naive_bayes import MultinomialNB\n",
    "from sklearn.svm import LinearSVC\n",
    "from sklearn.linear_model import LogisticRegression\n",
    "\n",
    "from sklearn.metrics import accuracy_score\n",
    "import timeit\n",
    "\n",
    "scores = {}\n",
    "times = {}"
   ]
  },
  {
   "cell_type": "code",
   "execution_count": 633,
   "id": "e66145cf-9a8f-4395-ae8d-42a4962b6ea0",
   "metadata": {
    "scrolled": true
   },
   "outputs": [
    {
     "data": {
      "text/html": [
       "<div>\n",
       "<style scoped>\n",
       "    .dataframe tbody tr th:only-of-type {\n",
       "        vertical-align: middle;\n",
       "    }\n",
       "\n",
       "    .dataframe tbody tr th {\n",
       "        vertical-align: top;\n",
       "    }\n",
       "\n",
       "    .dataframe thead th {\n",
       "        text-align: right;\n",
       "    }\n",
       "</style>\n",
       "<table border=\"1\" class=\"dataframe\">\n",
       "  <thead>\n",
       "    <tr style=\"text-align: right;\">\n",
       "      <th></th>\n",
       "      <th>Product</th>\n",
       "      <th>Category</th>\n",
       "    </tr>\n",
       "  </thead>\n",
       "  <tbody>\n",
       "    <tr>\n",
       "      <th>0</th>\n",
       "      <td>Apple 13-inch MacBook Air (M1 CPU) 256GB - 2020</td>\n",
       "      <td>Laptop</td>\n",
       "    </tr>\n",
       "    <tr>\n",
       "      <th>1</th>\n",
       "      <td>Apple 13-inch MacBook Air (M1 CPU) 512GB - 2020</td>\n",
       "      <td>Laptop</td>\n",
       "    </tr>\n",
       "    <tr>\n",
       "      <th>2</th>\n",
       "      <td>Apple 13-inch MacBook Air with Retina display ...</td>\n",
       "      <td>Laptop</td>\n",
       "    </tr>\n",
       "    <tr>\n",
       "      <th>3</th>\n",
       "      <td>Apple 13-inch MacBook Air with Retina display ...</td>\n",
       "      <td>Laptop</td>\n",
       "    </tr>\n",
       "    <tr>\n",
       "      <th>4</th>\n",
       "      <td>Apple 13-inch MacBook Pro (1.4GHz quad-core CP...</td>\n",
       "      <td>Laptop</td>\n",
       "    </tr>\n",
       "  </tbody>\n",
       "</table>\n",
       "</div>"
      ],
      "text/plain": [
       "                                             Product Category\n",
       "0    Apple 13-inch MacBook Air (M1 CPU) 256GB - 2020   Laptop\n",
       "1    Apple 13-inch MacBook Air (M1 CPU) 512GB - 2020   Laptop\n",
       "2  Apple 13-inch MacBook Air with Retina display ...   Laptop\n",
       "3  Apple 13-inch MacBook Air with Retina display ...   Laptop\n",
       "4  Apple 13-inch MacBook Pro (1.4GHz quad-core CP...   Laptop"
      ]
     },
     "execution_count": 633,
     "metadata": {},
     "output_type": "execute_result"
    }
   ],
   "source": [
    "df = pd.read_csv(\"devices-products.csv\")\n",
    "df.head()"
   ]
  },
  {
   "cell_type": "code",
   "execution_count": 634,
   "id": "3110ab29-6455-4ee9-b1a6-f85ebcc465e4",
   "metadata": {},
   "outputs": [
    {
     "data": {
      "text/plain": [
       "(1226, 2)"
      ]
     },
     "execution_count": 634,
     "metadata": {},
     "output_type": "execute_result"
    }
   ],
   "source": [
    "df.shape"
   ]
  },
  {
   "cell_type": "code",
   "execution_count": 635,
   "id": "227c0c6c-38a3-4960-971b-a010c1dcea46",
   "metadata": {},
   "outputs": [
    {
     "data": {
      "text/plain": [
       "Category\n",
       "Laptop            452\n",
       "Monitor           296\n",
       "Desktop           259\n",
       "Server             55\n",
       "Smartphone         50\n",
       "IoT                30\n",
       "Tablet             22\n",
       "Thin Client        16\n",
       "Printer            11\n",
       "Hard drive         11\n",
       "Gaming              5\n",
       "Workstation         4\n",
       "Multimedia          4\n",
       "Network             4\n",
       "Entertainment       2\n",
       "Converged Edge      2\n",
       "Converged           2\n",
       "SAN/NAS             1\n",
       "Name: count, dtype: int64"
      ]
     },
     "execution_count": 635,
     "metadata": {},
     "output_type": "execute_result"
    }
   ],
   "source": [
    "df['Category'].value_counts()"
   ]
  },
  {
   "cell_type": "code",
   "execution_count": 636,
   "id": "824cba46-eda8-44c6-a244-42db2556252f",
   "metadata": {},
   "outputs": [],
   "source": [
    "x = df['Product'].values\n",
    "y = df['Category'].values"
   ]
  },
  {
   "cell_type": "code",
   "execution_count": 637,
   "id": "4b8a6610-2bec-413b-b70f-84cbaa62a635",
   "metadata": {},
   "outputs": [],
   "source": [
    "x_train, x_test, y_train, y_test = train_test_split(x, y, test_size=0.2, random_state=0)"
   ]
  },
  {
   "cell_type": "code",
   "execution_count": 638,
   "id": "b1817d28-ee24-4b2e-9acc-1d80644b0abb",
   "metadata": {},
   "outputs": [],
   "source": [
    "tfidf_vectorizer = TfidfVectorizer() \n",
    "tfidf_train_vectors = tfidf_vectorizer.fit_transform(x_train)\n",
    "tfidf_test_vectors = tfidf_vectorizer.transform(x_test)"
   ]
  },
  {
   "cell_type": "code",
   "execution_count": 639,
   "id": "f8b5079d-05a0-415f-a5c1-516d00505410",
   "metadata": {},
   "outputs": [],
   "source": [
    "start = timeit.default_timer()\n",
    "clf_random_forest = RandomForestClassifier()\n",
    "clf_random_forest.fit(tfidf_train_vectors, y_train)\n",
    "y_random_forest_pred = clf_random_forest.predict(tfidf_test_vectors)\n",
    "times['random_forest'] = timeit.default_timer() - start"
   ]
  },
  {
   "cell_type": "code",
   "execution_count": 640,
   "id": "748feea1-bea3-4b9f-b461-274fc70bc514",
   "metadata": {},
   "outputs": [
    {
     "data": {
      "text/html": [
       "<div>\n",
       "<style scoped>\n",
       "    .dataframe tbody tr th:only-of-type {\n",
       "        vertical-align: middle;\n",
       "    }\n",
       "\n",
       "    .dataframe tbody tr th {\n",
       "        vertical-align: top;\n",
       "    }\n",
       "\n",
       "    .dataframe thead th {\n",
       "        text-align: right;\n",
       "    }\n",
       "</style>\n",
       "<table border=\"1\" class=\"dataframe\">\n",
       "  <thead>\n",
       "    <tr style=\"text-align: right;\">\n",
       "      <th></th>\n",
       "      <th>product</th>\n",
       "      <th>predicted_category</th>\n",
       "      <th>real_category</th>\n",
       "    </tr>\n",
       "  </thead>\n",
       "  <tbody>\n",
       "    <tr>\n",
       "      <th>0</th>\n",
       "      <td>Lenovo ThinkPad T440s</td>\n",
       "      <td>Laptop</td>\n",
       "      <td>Laptop</td>\n",
       "    </tr>\n",
       "    <tr>\n",
       "      <th>1</th>\n",
       "      <td>Apple 13-inch MacBook Pro (2.0GHz quad-core CP...</td>\n",
       "      <td>Laptop</td>\n",
       "      <td>Laptop</td>\n",
       "    </tr>\n",
       "    <tr>\n",
       "      <th>2</th>\n",
       "      <td>Lenovo IdeaPad Slim 7 15/Yoga Slim 7 15</td>\n",
       "      <td>Laptop</td>\n",
       "      <td>Laptop</td>\n",
       "    </tr>\n",
       "    <tr>\n",
       "      <th>3</th>\n",
       "      <td>Dell E2220H Monitor</td>\n",
       "      <td>Monitor</td>\n",
       "      <td>Monitor</td>\n",
       "    </tr>\n",
       "    <tr>\n",
       "      <th>4</th>\n",
       "      <td>Lexmark CX924dxe</td>\n",
       "      <td>Printer</td>\n",
       "      <td>Printer</td>\n",
       "    </tr>\n",
       "    <tr>\n",
       "      <th>...</th>\n",
       "      <td>...</td>\n",
       "      <td>...</td>\n",
       "      <td>...</td>\n",
       "    </tr>\n",
       "    <tr>\n",
       "      <th>241</th>\n",
       "      <td>Dell PowerEdge T130</td>\n",
       "      <td>Server</td>\n",
       "      <td>Server</td>\n",
       "    </tr>\n",
       "    <tr>\n",
       "      <th>242</th>\n",
       "      <td>Apple 14-inch MacBook Pro with 64GB</td>\n",
       "      <td>Laptop</td>\n",
       "      <td>Laptop</td>\n",
       "    </tr>\n",
       "    <tr>\n",
       "      <th>243</th>\n",
       "      <td>Seagate Makara HDD 8TB</td>\n",
       "      <td>Hard drive</td>\n",
       "      <td>Hard drive</td>\n",
       "    </tr>\n",
       "    <tr>\n",
       "      <th>244</th>\n",
       "      <td>HP E24i G4 HO</td>\n",
       "      <td>Monitor</td>\n",
       "      <td>Monitor</td>\n",
       "    </tr>\n",
       "    <tr>\n",
       "      <th>245</th>\n",
       "      <td>Dell OptiPlex 7780 All-in-One Desktop</td>\n",
       "      <td>Desktop</td>\n",
       "      <td>Desktop</td>\n",
       "    </tr>\n",
       "  </tbody>\n",
       "</table>\n",
       "<p>246 rows × 3 columns</p>\n",
       "</div>"
      ],
      "text/plain": [
       "                                               product predicted_category  \\\n",
       "0                                Lenovo ThinkPad T440s             Laptop   \n",
       "1    Apple 13-inch MacBook Pro (2.0GHz quad-core CP...             Laptop   \n",
       "2              Lenovo IdeaPad Slim 7 15/Yoga Slim 7 15             Laptop   \n",
       "3                                  Dell E2220H Monitor            Monitor   \n",
       "4                                     Lexmark CX924dxe            Printer   \n",
       "..                                                 ...                ...   \n",
       "241                                Dell PowerEdge T130             Server   \n",
       "242                Apple 14-inch MacBook Pro with 64GB             Laptop   \n",
       "243                             Seagate Makara HDD 8TB         Hard drive   \n",
       "244                                      HP E24i G4 HO            Monitor   \n",
       "245              Dell OptiPlex 7780 All-in-One Desktop            Desktop   \n",
       "\n",
       "    real_category  \n",
       "0          Laptop  \n",
       "1          Laptop  \n",
       "2          Laptop  \n",
       "3         Monitor  \n",
       "4         Printer  \n",
       "..            ...  \n",
       "241        Server  \n",
       "242        Laptop  \n",
       "243    Hard drive  \n",
       "244       Monitor  \n",
       "245       Desktop  \n",
       "\n",
       "[246 rows x 3 columns]"
      ]
     },
     "execution_count": 640,
     "metadata": {},
     "output_type": "execute_result"
    }
   ],
   "source": [
    "df_compare = pd.DataFrame(\n",
    "    data={\n",
    "        'product': x_test,\n",
    "        'predicted_category': y_random_forest_pred, \n",
    "        'real_category': y_test\n",
    "    }, \n",
    "    columns=['product', 'predicted_category', 'real_category'])\n",
    "df_compare"
   ]
  },
  {
   "cell_type": "code",
   "execution_count": 641,
   "id": "34bdb8ec-e27e-4729-a44d-d82f8757e972",
   "metadata": {},
   "outputs": [],
   "source": [
    "scores['random_forest'] = accuracy_score(y_test, y_random_forest_pred)"
   ]
  },
  {
   "cell_type": "code",
   "execution_count": 642,
   "id": "7082cac3-d91f-410d-940b-eb68abb6adf0",
   "metadata": {},
   "outputs": [
    {
     "data": {
      "text/plain": [
       "array(['Smartphone', 'Tablet'], dtype=object)"
      ]
     },
     "execution_count": 642,
     "metadata": {},
     "output_type": "execute_result"
    }
   ],
   "source": [
    "future_x_test = tfidf_vectorizer.transform(['Samsung Galaxy S39', 'iPad Future'])\n",
    "\n",
    "future_y_pred = clf_random_forest.predict(future_x_test)\n",
    "future_y_pred"
   ]
  },
  {
   "cell_type": "code",
   "execution_count": 643,
   "id": "ea1b8dd8-010b-4968-87d9-47e4558d892f",
   "metadata": {},
   "outputs": [],
   "source": [
    "start = timeit.default_timer()\n",
    "\n",
    "clf_knn = KNeighborsClassifier(n_neighbors=19)\n",
    "clf_knn.fit(tfidf_train_vectors, y_train)\n",
    "y_knn_pred = clf_knn.predict(tfidf_test_vectors)\n",
    "scores['k_nearest_neighbors'] = accuracy_score(y_test, y_knn_pred)\n",
    "times['k_nearest_neighbors'] = timeit.default_timer() - start"
   ]
  },
  {
   "cell_type": "code",
   "execution_count": 644,
   "id": "6f3f835c-f86b-493e-8954-e9cd3668b84d",
   "metadata": {},
   "outputs": [
    {
     "data": {
      "text/plain": [
       "array(['Laptop', 'Laptop'], dtype=object)"
      ]
     },
     "execution_count": 644,
     "metadata": {},
     "output_type": "execute_result"
    }
   ],
   "source": [
    "y_pred = clf_knn.predict(future_x_test)\n",
    "y_pred"
   ]
  },
  {
   "cell_type": "code",
   "execution_count": 645,
   "id": "f7009280-de0a-4249-bcf7-aef4f30ec48c",
   "metadata": {},
   "outputs": [],
   "source": [
    "start = timeit.default_timer()\n",
    "\n",
    "clf_nb = MultinomialNB()\n",
    "clf_nb.fit(tfidf_train_vectors, y_train)\n",
    "y_nb_pred = clf_nb.predict(tfidf_test_vectors)\n",
    "scores['naive_baynes'] = accuracy_score(y_test, y_nb_pred)\n",
    "times['naive_baynes'] = timeit.default_timer() - start\n"
   ]
  },
  {
   "cell_type": "code",
   "execution_count": 646,
   "id": "900da246-8ead-43f4-8776-4b2e0d4f5a37",
   "metadata": {},
   "outputs": [
    {
     "data": {
      "text/plain": [
       "array(['Laptop', 'Laptop'], dtype='<U14')"
      ]
     },
     "execution_count": 646,
     "metadata": {},
     "output_type": "execute_result"
    }
   ],
   "source": [
    "y_pred = clf_nb.predict(future_x_test)\n",
    "y_pred"
   ]
  },
  {
   "cell_type": "code",
   "execution_count": 647,
   "id": "03d71712-e737-4dc4-b7c0-5fe40ddd0c67",
   "metadata": {},
   "outputs": [],
   "source": [
    "start = timeit.default_timer()\n",
    "\n",
    "clf_svc = LinearSVC(dual=True)\n",
    "clf_svc.fit(tfidf_train_vectors, y_train)\n",
    "y_svc_pred = clf_svc.predict(tfidf_test_vectors)\n",
    "scores['support_vector_machines'] = accuracy_score(y_test, y_svc_pred)\n",
    "times['support_vector_machines'] = timeit.default_timer() - start"
   ]
  },
  {
   "cell_type": "code",
   "execution_count": 648,
   "id": "9d910d6b-4346-4a9a-a3f5-fa54083079fe",
   "metadata": {},
   "outputs": [
    {
     "data": {
      "text/plain": [
       "array(['Smartphone', 'Tablet'], dtype=object)"
      ]
     },
     "execution_count": 648,
     "metadata": {},
     "output_type": "execute_result"
    }
   ],
   "source": [
    "y_pred = clf_svc.predict(future_x_test)\n",
    "y_pred"
   ]
  },
  {
   "cell_type": "code",
   "execution_count": 649,
   "id": "f464f6c8-c969-4403-8bcf-03278c425343",
   "metadata": {},
   "outputs": [],
   "source": [
    "start = timeit.default_timer()\n",
    "\n",
    "clf_logreg = LogisticRegression()\n",
    "clf_logreg.fit(tfidf_train_vectors, y_train)\n",
    "y_logreg_pred = clf_logreg.predict(tfidf_test_vectors)\n",
    "scores['logistic_regression'] = accuracy_score(y_test, y_logreg_pred)\n",
    "times['logistic_regression'] = timeit.default_timer() - start"
   ]
  },
  {
   "cell_type": "code",
   "execution_count": 650,
   "id": "e2c33c5b-900f-4c8f-82c2-e57f7706c0f8",
   "metadata": {},
   "outputs": [
    {
     "data": {
      "text/plain": [
       "array(['Smartphone', 'Laptop'], dtype=object)"
      ]
     },
     "execution_count": 650,
     "metadata": {},
     "output_type": "execute_result"
    }
   ],
   "source": [
    "y_pred = clf_logreg.predict(future_x_test)\n",
    "y_pred"
   ]
  },
  {
   "cell_type": "code",
   "execution_count": 651,
   "id": "dd7b83fe-dae2-4efe-b286-011ce115fdb9",
   "metadata": {},
   "outputs": [
    {
     "name": "stdout",
     "output_type": "stream",
     "text": [
      "random_forest: 91.87% (0.24s)\n",
      "k_nearest_neighbors: 85.77% (0.024s)\n",
      "naive_baynes: 85.37% (0.0069s)\n",
      "support_vector_machines: 96.75% (0.022s)\n",
      "logistic_regression: 91.46% (0.14s)\n"
     ]
    }
   ],
   "source": [
    "algorithms = [\n",
    "    'random_forest', \n",
    "    'k_nearest_neighbors', \n",
    "    'naive_baynes', \n",
    "    'support_vector_machines', \n",
    "    'logistic_regression'\n",
    "]\n",
    "\n",
    "for i in range(5):\n",
    "    print(f\"{algorithms[i]}: {scores[algorithms[i]]:.2%} ({times[algorithms[i]]:.2}s)\")"
   ]
  }
 ],
 "metadata": {
  "kernelspec": {
   "display_name": "Python 3 (ipykernel)",
   "language": "python",
   "name": "python3"
  },
  "language_info": {
   "codemirror_mode": {
    "name": "ipython",
    "version": 3
   },
   "file_extension": ".py",
   "mimetype": "text/x-python",
   "name": "python",
   "nbconvert_exporter": "python",
   "pygments_lexer": "ipython3",
   "version": "3.12.0"
  }
 },
 "nbformat": 4,
 "nbformat_minor": 5
}
